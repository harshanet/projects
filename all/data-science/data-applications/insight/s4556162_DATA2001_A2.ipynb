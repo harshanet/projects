{
 "cells": [
  {
   "cell_type": "markdown",
   "id": "f572c76d-641c-41a8-8cb1-c5808d283dd5",
   "metadata": {},
   "source": [
    "NAME: ***Harsha Joshi*** <br>\n",
    "STUDENT ID: ***45561623***   <br>\n",
    "DATA2001 ASSIGNMENT 2 <br>"
   ]
  },
  {
   "cell_type": "markdown",
   "id": "1d723e85",
   "metadata": {
    "id": "1d723e85"
   },
   "source": [
    "# DATA2001 Assignment 2 (Weight: 25%)\n"
   ]
  },
  {
   "cell_type": "markdown",
   "id": "d1aaa603",
   "metadata": {
    "id": "d1aaa603"
   },
   "source": [
    "The aim of this assignment is to gain practical experience in analysing unstructured data.\n",
    "You should only submit your completed Jupyter notebook in .ipynb format via Blackboard, including written answers in markdown and results from executed code cells.\n",
    "\n",
    "\n",
    "The assignment comprises 5 main tasks: Data Exploration, Data Preprocessing, Model Training, Model Evaluation, and Model Analysis. You will address and compare two tasks: sentiment analysis and rating prediction.\n",
    "\n",
    "\n",
    "The dataset you will work with in this assignment comprises text reviews about various android applications and their corresponding ratings. Further information about the dataset can be found [here](https://huggingface.co/datasets/sealuzh/app_reviews).\n"
   ]
  },
  {
   "cell_type": "markdown",
   "id": "016f933a-a9cc-4487-8cd1-d2276bb77de7",
   "metadata": {},
   "source": [
    "# Preprocessing Data through EDA"
   ]
  },
  {
   "cell_type": "markdown",
   "id": "65f8e5f0-35d2-4c9c-857c-92ecad13b97f",
   "metadata": {},
   "source": [
    "An EDA is conducted on the data to determine any issues before answering the questions stated in each of the tasks."
   ]
  },
  {
   "cell_type": "code",
   "execution_count": 1,
   "id": "3c359a67",
   "metadata": {
    "colab": {
     "base_uri": "https://localhost:8080/",
     "height": 206
    },
    "id": "3c359a67",
    "outputId": "dbca4439-0887-4f0c-8189-22e15a67bfe4"
   },
   "outputs": [
    {
     "name": "stdout",
     "output_type": "stream",
     "text": [
      "Total number of rows: 57613\n",
      "Total number of columns: 2\n"
     ]
    },
    {
     "data": {
      "text/html": [
       "<div>\n",
       "<style scoped>\n",
       "    .dataframe tbody tr th:only-of-type {\n",
       "        vertical-align: middle;\n",
       "    }\n",
       "\n",
       "    .dataframe tbody tr th {\n",
       "        vertical-align: top;\n",
       "    }\n",
       "\n",
       "    .dataframe thead th {\n",
       "        text-align: right;\n",
       "    }\n",
       "</style>\n",
       "<table border=\"1\" class=\"dataframe\">\n",
       "  <thead>\n",
       "    <tr style=\"text-align: right;\">\n",
       "      <th></th>\n",
       "      <th>Review</th>\n",
       "      <th>Rating</th>\n",
       "    </tr>\n",
       "  </thead>\n",
       "  <tbody>\n",
       "    <tr>\n",
       "      <th>0</th>\n",
       "      <td>Thanks a lot I feel very good when i have down...</td>\n",
       "      <td>1</td>\n",
       "    </tr>\n",
       "    <tr>\n",
       "      <th>1</th>\n",
       "      <td>Its worst</td>\n",
       "      <td>1</td>\n",
       "    </tr>\n",
       "    <tr>\n",
       "      <th>2</th>\n",
       "      <td>Used too much space</td>\n",
       "      <td>1</td>\n",
       "    </tr>\n",
       "    <tr>\n",
       "      <th>3</th>\n",
       "      <td>Doesn't work a bit on my moto g</td>\n",
       "      <td>1</td>\n",
       "    </tr>\n",
       "    <tr>\n",
       "      <th>4</th>\n",
       "      <td>Hate it This does not work</td>\n",
       "      <td>1</td>\n",
       "    </tr>\n",
       "    <tr>\n",
       "      <th>5</th>\n",
       "      <td>Can't log in Fully foul. Can't access my any o...</td>\n",
       "      <td>1</td>\n",
       "    </tr>\n",
       "    <tr>\n",
       "      <th>6</th>\n",
       "      <td>No pin or pattern use</td>\n",
       "      <td>1</td>\n",
       "    </tr>\n",
       "    <tr>\n",
       "      <th>7</th>\n",
       "      <td>Please add the ability to delete this app from...</td>\n",
       "      <td>1</td>\n",
       "    </tr>\n",
       "    <tr>\n",
       "      <th>8</th>\n",
       "      <td>It might be a good app BUT: It doesn't work on...</td>\n",
       "      <td>1</td>\n",
       "    </tr>\n",
       "    <tr>\n",
       "      <th>9</th>\n",
       "      <td>I use to love it!!! This WAS the only app I wo...</td>\n",
       "      <td>1</td>\n",
       "    </tr>\n",
       "    <tr>\n",
       "      <th>10</th>\n",
       "      <td>Many permission You have download one app for ...</td>\n",
       "      <td>1</td>\n",
       "    </tr>\n",
       "    <tr>\n",
       "      <th>11</th>\n",
       "      <td>Couldn't upgrade</td>\n",
       "      <td>1</td>\n",
       "    </tr>\n",
       "    <tr>\n",
       "      <th>12</th>\n",
       "      <td>Es muy mala •`_'•</td>\n",
       "      <td>1</td>\n",
       "    </tr>\n",
       "    <tr>\n",
       "      <th>13</th>\n",
       "      <td>Slows down tablet Do we need more bloatware??</td>\n",
       "      <td>1</td>\n",
       "    </tr>\n",
       "    <tr>\n",
       "      <th>14</th>\n",
       "      <td>It may work 4 out of 10 times to show the call...</td>\n",
       "      <td>1</td>\n",
       "    </tr>\n",
       "    <tr>\n",
       "      <th>15</th>\n",
       "      <td>Bad service</td>\n",
       "      <td>1</td>\n",
       "    </tr>\n",
       "    <tr>\n",
       "      <th>16</th>\n",
       "      <td>So wanted to try it  but ... Wanted to try it ...</td>\n",
       "      <td>1</td>\n",
       "    </tr>\n",
       "    <tr>\n",
       "      <th>17</th>\n",
       "      <td>No updates or downloads possible Since a few d...</td>\n",
       "      <td>1</td>\n",
       "    </tr>\n",
       "    <tr>\n",
       "      <th>18</th>\n",
       "      <td>Arr wat u tll ull. I had a old version of Goog...</td>\n",
       "      <td>1</td>\n",
       "    </tr>\n",
       "    <tr>\n",
       "      <th>19</th>\n",
       "      <td>Broken with last update! I used to love this a...</td>\n",
       "      <td>1</td>\n",
       "    </tr>\n",
       "  </tbody>\n",
       "</table>\n",
       "</div>"
      ],
      "text/plain": [
       "                                               Review  Rating\n",
       "0   Thanks a lot I feel very good when i have down...       1\n",
       "1                                           Its worst       1\n",
       "2                                 Used too much space       1\n",
       "3                     Doesn't work a bit on my moto g       1\n",
       "4                          Hate it This does not work       1\n",
       "5   Can't log in Fully foul. Can't access my any o...       1\n",
       "6                               No pin or pattern use       1\n",
       "7   Please add the ability to delete this app from...       1\n",
       "8   It might be a good app BUT: It doesn't work on...       1\n",
       "9   I use to love it!!! This WAS the only app I wo...       1\n",
       "10  Many permission You have download one app for ...       1\n",
       "11                                   Couldn't upgrade       1\n",
       "12                                  Es muy mala •`_'•       1\n",
       "13      Slows down tablet Do we need more bloatware??       1\n",
       "14  It may work 4 out of 10 times to show the call...       1\n",
       "15                                        Bad service       1\n",
       "16  So wanted to try it  but ... Wanted to try it ...       1\n",
       "17  No updates or downloads possible Since a few d...       1\n",
       "18  Arr wat u tll ull. I had a old version of Goog...       1\n",
       "19  Broken with last update! I used to love this a...       1"
      ]
     },
     "execution_count": 1,
     "metadata": {},
     "output_type": "execute_result"
    }
   ],
   "source": [
    "# import pandas library \n",
    "import pandas as pd\n",
    "\n",
    "# import numpy and matplotlib\n",
    "import numpy as np\n",
    "\n",
    "import matplotlib.pyplot as plt\n",
    "\n",
    "# load the data\n",
    "app_data = pd.read_csv(filepath_or_buffer = 'app_review.csv')\n",
    "\n",
    "# Find the total number of rows\n",
    "total_rows = app_data.shape[0]\n",
    "print(\"Total number of rows:\", total_rows)\n",
    "\n",
    "# Find the total number of columns\n",
    "total_cols = app_data.shape[1]\n",
    "print(\"Total number of columns:\", total_cols)\n",
    "\n",
    "# View first few rows of data\n",
    "app_data.head(20)"
   ]
  },
  {
   "cell_type": "code",
   "execution_count": 2,
   "id": "98541e63-5523-467d-a6c3-6427ba83bb9f",
   "metadata": {},
   "outputs": [
    {
     "data": {
      "text/plain": [
       "Review    5\n",
       "Rating    0\n",
       "dtype: int64"
      ]
     },
     "execution_count": 2,
     "metadata": {},
     "output_type": "execute_result"
    }
   ],
   "source": [
    "# Calculate the number of null values\n",
    "app_data.isna().sum()"
   ]
  },
  {
   "cell_type": "markdown",
   "id": "dce6c731-4528-4382-b221-4ccf734e147a",
   "metadata": {},
   "source": [
    "**OBSERVATION**: <br>\n",
    "Since \"Review\" is a non-numerical value, mean imputation cannot be conducted."
   ]
  },
  {
   "cell_type": "markdown",
   "id": "993e6d72-834b-4032-95ee-3019fb08a9e9",
   "metadata": {},
   "source": [
    "### Univariate EDA"
   ]
  },
  {
   "cell_type": "code",
   "execution_count": 3,
   "id": "10638f79-ee55-48aa-89c5-4d088b05b1b7",
   "metadata": {},
   "outputs": [
    {
     "data": {
      "text/plain": [
       "(57613, 2)"
      ]
     },
     "execution_count": 3,
     "metadata": {},
     "output_type": "execute_result"
    }
   ],
   "source": [
    "# shape of the data\n",
    "app_data.shape"
   ]
  },
  {
   "cell_type": "code",
   "execution_count": 4,
   "id": "8b1d5e4a-20dc-4b13-9396-c13f7609a87a",
   "metadata": {},
   "outputs": [
    {
     "name": "stdout",
     "output_type": "stream",
     "text": [
      "<class 'pandas.core.frame.DataFrame'>\n",
      "RangeIndex: 57613 entries, 0 to 57612\n",
      "Data columns (total 2 columns):\n",
      " #   Column  Non-Null Count  Dtype \n",
      "---  ------  --------------  ----- \n",
      " 0   Review  57608 non-null  object\n",
      " 1   Rating  57613 non-null  int64 \n",
      "dtypes: int64(1), object(1)\n",
      "memory usage: 900.3+ KB\n"
     ]
    }
   ],
   "source": [
    "# concise summary of the dataset\n",
    "app_data.info()"
   ]
  },
  {
   "cell_type": "code",
   "execution_count": 5,
   "id": "9caf323b-ed3b-41d0-bd09-759c9d65fcce",
   "metadata": {},
   "outputs": [
    {
     "data": {
      "text/plain": [
       "count    57613.000000\n",
       "mean         4.016298\n",
       "std          1.455702\n",
       "min          1.000000\n",
       "25%          3.000000\n",
       "50%          5.000000\n",
       "75%          5.000000\n",
       "max          5.000000\n",
       "Name: Rating, dtype: float64"
      ]
     },
     "execution_count": 5,
     "metadata": {},
     "output_type": "execute_result"
    }
   ],
   "source": [
    "# summarise Alcohol\n",
    "app_data[\"Rating\"].describe()"
   ]
  },
  {
   "cell_type": "code",
   "execution_count": 6,
   "id": "bb8f773a-2532-49dd-a576-e0496c952fdc",
   "metadata": {},
   "outputs": [
    {
     "data": {
      "text/plain": [
       "array([1, 2, 3, 4, 5])"
      ]
     },
     "execution_count": 6,
     "metadata": {},
     "output_type": "execute_result"
    }
   ],
   "source": [
    "# view unique Alcohol values\n",
    "app_data[\"Rating\"].unique()"
   ]
  },
  {
   "cell_type": "code",
   "execution_count": 7,
   "id": "d4eca766-bc76-4768-adc9-938fa05418fa",
   "metadata": {},
   "outputs": [
    {
     "data": {
      "text/plain": [
       "<Axes: title={'center': 'Distribution of Rating'}, ylabel='Frequency'>"
      ]
     },
     "execution_count": 7,
     "metadata": {},
     "output_type": "execute_result"
    },
    {
     "data": {
      "image/png": "[encoded data removed]",
      "text/plain": [
       "<Figure size 640x480 with 1 Axes>"
      ]
     },
     "metadata": {},
     "output_type": "display_data"
    }
   ],
   "source": [
    "# histogram of 'Rating'\n",
    "app_data[\"Rating\"].plot.hist(grid=False, bins=10, title=\"Distribution of Rating\")"
   ]
  },
  {
   "cell_type": "code",
   "execution_count": 8,
   "id": "2becb6c4-7b2e-41f7-bd21-9ca5ebc2efa7",
   "metadata": {},
   "outputs": [
    {
     "data": {
      "text/plain": [
       "<Axes: title={'center': 'Distribution of Rating'}>"
      ]
     },
     "execution_count": 8,
     "metadata": {},
     "output_type": "execute_result"
    },
    {
     "data": {
      "image/png": "[encoded data removed]",
      "text/plain": [
       "<Figure size 640x480 with 1 Axes>"
      ]
     },
     "metadata": {},
     "output_type": "display_data"
    }
   ],
   "source": [
    "# boxplot of 'Rating'\n",
    "app_data[\"Rating\"].plot.box(vert = False, title = \"Distribution of Rating\")"
   ]
  },
  {
   "cell_type": "code",
   "execution_count": 9,
   "id": "e3e568d4-1afa-4c6a-ad85-dff6d9fc9168",
   "metadata": {},
   "outputs": [
    {
     "data": {
      "text/plain": [
       "<Axes: title={'center': 'Proportion of different Ratings'}, ylabel='count'>"
      ]
     },
     "execution_count": 9,
     "metadata": {},
     "output_type": "execute_result"
    },
    {
     "data": {
      "image/png": "[encoded data removed]",
      "text/plain": [
       "<Figure size 640x480 with 1 Axes>"
      ]
     },
     "metadata": {},
     "output_type": "display_data"
    }
   ],
   "source": [
    "# distribution of the 'Rating' column values\n",
    "rating_distribution = app_data[\"Rating\"].value_counts()\n",
    "rating_distribution\n",
    "\n",
    "# make a pie chart\n",
    "rating_distribution.plot.pie(autopct='%1.2f%%', pctdistance=0.7, radius=1, title=\"Proportion of different Ratings\")"
   ]
  },
  {
   "cell_type": "markdown",
   "id": "d693423b",
   "metadata": {
    "id": "d693423b"
   },
   "source": [
    "## Task 1: Data Exploration\n"
   ]
  },
  {
   "cell_type": "markdown",
   "id": "562d2289",
   "metadata": {
    "id": "562d2289"
   },
   "source": [
    "1. **Load the dataset from the file \"app_review.csv\". How many records does the dataset contain? How many distinct classes are there in the dataset? Randomly select and print 5 reviews with a rating of '1' and 5 reviews with a rating of '5'.**"
   ]
  },
  {
   "cell_type": "code",
   "execution_count": 10,
   "id": "797f6daa",
   "metadata": {
    "id": "797f6daa"
   },
   "outputs": [],
   "source": [
    "import pandas as pd\n",
    "import warnings\n",
    "import numpy as np\n",
    "import matplotlib.pyplot as plt\n",
    "warnings.filterwarnings('ignore')"
   ]
  },
  {
   "cell_type": "code",
   "execution_count": 11,
   "id": "0f5346fe-d67e-465d-97ba-69f98841e51f",
   "metadata": {},
   "outputs": [
    {
     "name": "stdout",
     "output_type": "stream",
     "text": [
      "Defaulting to user installation because normal site-packages is not writeable\n",
      "Requirement already satisfied: nltk in /home/s4556162/.local/lib/python3.12/site-packages (3.9.1)\n",
      "Requirement already satisfied: click in /usr/local/lib/python3.12/dist-packages (from nltk) (8.1.7)\n",
      "Requirement already satisfied: joblib in /usr/local/lib/python3.12/dist-packages (from nltk) (1.4.2)\n",
      "Requirement already satisfied: regex>=2021.8.3 in /usr/local/lib/python3.12/dist-packages (from nltk) (2024.5.15)\n",
      "Requirement already satisfied: tqdm in /home/s4556162/.local/lib/python3.12/site-packages (from nltk) (4.66.5)\n"
     ]
    },
    {
     "name": "stderr",
     "output_type": "stream",
     "text": [
      "[nltk_data] Downloading package stopwords to\n",
      "[nltk_data]     /home/s4556162/nltk_data...\n",
      "[nltk_data]   Package stopwords is already up-to-date!\n",
      "[nltk_data] Downloading package omw-1.4 to /home/s4556162/nltk_data...\n",
      "[nltk_data]   Package omw-1.4 is already up-to-date!\n",
      "[nltk_data] Downloading package wordnet to /home/s4556162/nltk_data...\n",
      "[nltk_data]   Package wordnet is already up-to-date!\n"
     ]
    },
    {
     "data": {
      "text/plain": [
       "True"
      ]
     },
     "execution_count": 11,
     "metadata": {},
     "output_type": "execute_result"
    }
   ],
   "source": [
    "# Provide your answers here\n",
    "!pip install nltk\n",
    "\n",
    "import nltk\n",
    "from nltk.corpus import stopwords\n",
    "\n",
    "\n",
    "nltk.download('stopwords')\n",
    "nltk.download('omw-1.4')\n",
    "nltk.download('wordnet')"
   ]
  },
  {
   "cell_type": "code",
   "execution_count": 12,
   "id": "3b7431a1-6c9c-44fd-aeef-f414bd76c2c1",
   "metadata": {},
   "outputs": [
    {
     "data": {
      "text/html": [
       "<div>\n",
       "<style scoped>\n",
       "    .dataframe tbody tr th:only-of-type {\n",
       "        vertical-align: middle;\n",
       "    }\n",
       "\n",
       "    .dataframe tbody tr th {\n",
       "        vertical-align: top;\n",
       "    }\n",
       "\n",
       "    .dataframe thead th {\n",
       "        text-align: right;\n",
       "    }\n",
       "</style>\n",
       "<table border=\"1\" class=\"dataframe\">\n",
       "  <thead>\n",
       "    <tr style=\"text-align: right;\">\n",
       "      <th></th>\n",
       "      <th>Review</th>\n",
       "      <th>Rating</th>\n",
       "    </tr>\n",
       "  </thead>\n",
       "  <tbody>\n",
       "    <tr>\n",
       "      <th>0</th>\n",
       "      <td>Thanks a lot I feel very good when i have down...</td>\n",
       "      <td>1</td>\n",
       "    </tr>\n",
       "    <tr>\n",
       "      <th>1</th>\n",
       "      <td>Its worst</td>\n",
       "      <td>1</td>\n",
       "    </tr>\n",
       "    <tr>\n",
       "      <th>2</th>\n",
       "      <td>Used too much space</td>\n",
       "      <td>1</td>\n",
       "    </tr>\n",
       "    <tr>\n",
       "      <th>3</th>\n",
       "      <td>Doesn't work a bit on my moto g</td>\n",
       "      <td>1</td>\n",
       "    </tr>\n",
       "    <tr>\n",
       "      <th>4</th>\n",
       "      <td>Hate it This does not work</td>\n",
       "      <td>1</td>\n",
       "    </tr>\n",
       "    <tr>\n",
       "      <th>5</th>\n",
       "      <td>Can't log in Fully foul. Can't access my any o...</td>\n",
       "      <td>1</td>\n",
       "    </tr>\n",
       "    <tr>\n",
       "      <th>6</th>\n",
       "      <td>No pin or pattern use</td>\n",
       "      <td>1</td>\n",
       "    </tr>\n",
       "    <tr>\n",
       "      <th>7</th>\n",
       "      <td>Please add the ability to delete this app from...</td>\n",
       "      <td>1</td>\n",
       "    </tr>\n",
       "    <tr>\n",
       "      <th>8</th>\n",
       "      <td>It might be a good app BUT: It doesn't work on...</td>\n",
       "      <td>1</td>\n",
       "    </tr>\n",
       "    <tr>\n",
       "      <th>9</th>\n",
       "      <td>I use to love it!!! This WAS the only app I wo...</td>\n",
       "      <td>1</td>\n",
       "    </tr>\n",
       "  </tbody>\n",
       "</table>\n",
       "</div>"
      ],
      "text/plain": [
       "                                              Review  Rating\n",
       "0  Thanks a lot I feel very good when i have down...       1\n",
       "1                                          Its worst       1\n",
       "2                                Used too much space       1\n",
       "3                    Doesn't work a bit on my moto g       1\n",
       "4                         Hate it This does not work       1\n",
       "5  Can't log in Fully foul. Can't access my any o...       1\n",
       "6                              No pin or pattern use       1\n",
       "7  Please add the ability to delete this app from...       1\n",
       "8  It might be a good app BUT: It doesn't work on...       1\n",
       "9  I use to love it!!! This WAS the only app I wo...       1"
      ]
     },
     "execution_count": 12,
     "metadata": {},
     "output_type": "execute_result"
    }
   ],
   "source": [
    "# load the data \n",
    "app_data = pd.read_csv(\"app_review.csv\")\n",
    "\n",
    "#view the first few rows of the data\n",
    "app_data.head(10)"
   ]
  },
  {
   "cell_type": "markdown",
   "id": "a10982d2-33a2-4f0e-a1d1-828569811af1",
   "metadata": {},
   "source": [
    "### How many records does the dataset contain? How many distinct classes are there in the dataset?"
   ]
  },
  {
   "cell_type": "code",
   "execution_count": 13,
   "id": "fc5788cb-e476-4cb5-ad0f-2c5eb677e741",
   "metadata": {},
   "outputs": [
    {
     "name": "stdout",
     "output_type": "stream",
     "text": [
      "The dataset contains 57613 records.\n",
      "The dataset contains 47079 distinct classes.\n"
     ]
    }
   ],
   "source": [
    "# Provide your answers here\n",
    "\n",
    "# Calculate the number of records\n",
    "num_records = len(app_data)\n",
    "print(f'The dataset contains {num_records} records.')\n",
    "\n",
    "# Calculate the number of distinct classes in the entire dataset\n",
    "num_classes = app_data.nunique().sum()\n",
    "print(f'The dataset contains {num_classes} distinct classes.')"
   ]
  },
  {
   "cell_type": "markdown",
   "id": "857a5ad4-e7f9-4ab2-9ebb-2c4240e9958c",
   "metadata": {},
   "source": [
    "### Randomly select and print 5 reviews with a rating of '1' and 5 reviews with a rating of '5'."
   ]
  },
  {
   "cell_type": "code",
   "execution_count": 14,
   "id": "a0ada9f0-881a-4bb4-a5bb-b74c76956328",
   "metadata": {},
   "outputs": [
    {
     "name": "stdout",
     "output_type": "stream",
     "text": [
      "5 Reviews with Rating 1:\n",
      "['it does not log in for a while  thefefore songs i played are not visible as data in my last. fm account.', 'Please help Cant root my Micromax A36', \"It doesn't work.\", \"It's not much usefully if it doesn't have a voice calling option\", 'Niraj Kumar Bharti Very useful this app for Android']\n",
      "\n",
      "5 Reviews with Rating 5:\n",
      "['Awesome  finally a cloudless remotecam! Kudos! Now I wish I had the knowledge/time to help you out with https/pgp... Big thanks  keep up the good work!', 'Amazing This is the best app for reading books from your smartphone', 'Its good', 'India ka', \"Just what I needed It's simple and perfect.\"]\n"
     ]
    }
   ],
   "source": [
    "# Randomly select and print 5 reviews with rating '1' and 5 with rating '5'\n",
    "rating_1_reviews = app_data[app_data['Rating'] == 1].sample(n=5)\n",
    "rating_5_reviews = app_data[app_data['Rating'] == 5].sample(n=5)\n",
    "\n",
    "# Print selected reviews\n",
    "print(\"5 Reviews with Rating 1:\")\n",
    "print(rating_1_reviews['Review'].to_list())\n",
    "\n",
    "print(\"\\n5 Reviews with Rating 5:\")\n",
    "print(rating_5_reviews['Review'].to_list())\n",
    "\n",
    "# Count the total number of reviews with Rating 1\n",
    "rating_1_count = len(rating_1_reviews)\n",
    "\n",
    "# Count the total number of reviews with Rating 5\n",
    "rating_5_count = len(rating_5_reviews)"
   ]
  },
  {
   "cell_type": "markdown",
   "id": "dd562630-30df-44f1-9a32-2ef53d38ed9b",
   "metadata": {},
   "source": [
    "2. **Is the class distribution balanced? To support your answer, create a bar plot with the classes on the x-axis and the number of reviews in each class on the y-axis. Additionally, based on your observations of the reviews and the class distribution, determine whether there are more positive or negative reviews.**"
   ]
  },
  {
   "cell_type": "code",
   "execution_count": 15,
   "id": "353a41f1-ef77-40d4-9118-d3964d79ee8a",
   "metadata": {},
   "outputs": [
    {
     "data": {
      "image/png": "[encoded data removed]",
      "text/plain": [
       "<Figure size 640x480 with 1 Axes>"
      ]
     },
     "metadata": {},
     "output_type": "display_data"
    }
   ],
   "source": [
    "# Provide your answers here\n",
    "\n",
    "# Get the word frequency\n",
    "class_distribution = app_data['Rating'].value_counts().sort_index()\n",
    "\n",
    "plt.bar(class_distribution.index, class_distribution.values)\n",
    "plt.xlabel('Rating')\n",
    "plt.ylabel('Number of Reviews')\n",
    "plt.title('Class Distribution of Reviews')\n",
    "plt.xticks([1, 2, 3, 4, 5])  # Assuming you have only '1' and '5' as ratings\n",
    "plt.show()"
   ]
  },
  {
   "cell_type": "markdown",
   "id": "49e3d0ee-ecfd-4c76-be44-46b16492f348",
   "metadata": {},
   "source": [
    "**OBSERVATION**: <br>\n",
    "It is assumed that 1-3 are classified as negative reviews, while 4-5 are classified as positive reviews. Visually looking at the graph, it is evident that there are more positive reviews than negative reviews. This is further supported by the pie chart in the EDA done before Task 1 whereby the total proportion of negative reviews is about 26.54%, while the positive reviews is significantly higher at 73.46%."
   ]
  },
  {
   "cell_type": "markdown",
   "id": "c66c6232",
   "metadata": {
    "id": "c66c6232"
   },
   "source": [
    "## Task 2: Data Preprocessing\n",
    "\n",
    "- **Use the provided \"clean_data\" function to remove unnecessary symbols and clean the dataset.**\n",
    "\n"
   ]
  },
  {
   "cell_type": "code",
   "execution_count": 16,
   "id": "5bdc25b5-a40e-4f5f-aad7-e8aabb54c0bc",
   "metadata": {},
   "outputs": [],
   "source": [
    "# Convert the app_data Review column into str types such that the data can be cleaned according to the function below\n",
    "app_data['Review'] = app_data['Review'].astype(str)"
   ]
  },
  {
   "cell_type": "code",
   "execution_count": 17,
   "id": "2733af67-56ff-4831-aa2d-b076125df66f",
   "metadata": {},
   "outputs": [
    {
     "data": {
      "text/html": [
       "<div>\n",
       "<style scoped>\n",
       "    .dataframe tbody tr th:only-of-type {\n",
       "        vertical-align: middle;\n",
       "    }\n",
       "\n",
       "    .dataframe tbody tr th {\n",
       "        vertical-align: top;\n",
       "    }\n",
       "\n",
       "    .dataframe thead th {\n",
       "        text-align: right;\n",
       "    }\n",
       "</style>\n",
       "<table border=\"1\" class=\"dataframe\">\n",
       "  <thead>\n",
       "    <tr style=\"text-align: right;\">\n",
       "      <th></th>\n",
       "      <th>Review</th>\n",
       "      <th>Rating</th>\n",
       "    </tr>\n",
       "  </thead>\n",
       "  <tbody>\n",
       "    <tr>\n",
       "      <th>0</th>\n",
       "      <td>Thanks a lot I feel very good when i have down...</td>\n",
       "      <td>1</td>\n",
       "    </tr>\n",
       "    <tr>\n",
       "      <th>1</th>\n",
       "      <td>Its worst</td>\n",
       "      <td>1</td>\n",
       "    </tr>\n",
       "    <tr>\n",
       "      <th>2</th>\n",
       "      <td>Used too much space</td>\n",
       "      <td>1</td>\n",
       "    </tr>\n",
       "    <tr>\n",
       "      <th>3</th>\n",
       "      <td>Doesn't work a bit on my moto g</td>\n",
       "      <td>1</td>\n",
       "    </tr>\n",
       "    <tr>\n",
       "      <th>4</th>\n",
       "      <td>Hate it This does not work</td>\n",
       "      <td>1</td>\n",
       "    </tr>\n",
       "    <tr>\n",
       "      <th>5</th>\n",
       "      <td>Can't log in Fully foul. Can't access my any o...</td>\n",
       "      <td>1</td>\n",
       "    </tr>\n",
       "    <tr>\n",
       "      <th>6</th>\n",
       "      <td>No pin or pattern use</td>\n",
       "      <td>1</td>\n",
       "    </tr>\n",
       "    <tr>\n",
       "      <th>7</th>\n",
       "      <td>Please add the ability to delete this app from...</td>\n",
       "      <td>1</td>\n",
       "    </tr>\n",
       "    <tr>\n",
       "      <th>8</th>\n",
       "      <td>It might be a good app BUT: It doesn't work on...</td>\n",
       "      <td>1</td>\n",
       "    </tr>\n",
       "    <tr>\n",
       "      <th>9</th>\n",
       "      <td>I use to love it!!! This WAS the only app I wo...</td>\n",
       "      <td>1</td>\n",
       "    </tr>\n",
       "    <tr>\n",
       "      <th>10</th>\n",
       "      <td>Many permission You have download one app for ...</td>\n",
       "      <td>1</td>\n",
       "    </tr>\n",
       "    <tr>\n",
       "      <th>11</th>\n",
       "      <td>Couldn't upgrade</td>\n",
       "      <td>1</td>\n",
       "    </tr>\n",
       "    <tr>\n",
       "      <th>12</th>\n",
       "      <td>Es muy mala •`_'•</td>\n",
       "      <td>1</td>\n",
       "    </tr>\n",
       "    <tr>\n",
       "      <th>13</th>\n",
       "      <td>Slows down tablet Do we need more bloatware??</td>\n",
       "      <td>1</td>\n",
       "    </tr>\n",
       "    <tr>\n",
       "      <th>14</th>\n",
       "      <td>It may work 4 out of 10 times to show the call...</td>\n",
       "      <td>1</td>\n",
       "    </tr>\n",
       "  </tbody>\n",
       "</table>\n",
       "</div>"
      ],
      "text/plain": [
       "                                               Review  Rating\n",
       "0   Thanks a lot I feel very good when i have down...       1\n",
       "1                                           Its worst       1\n",
       "2                                 Used too much space       1\n",
       "3                     Doesn't work a bit on my moto g       1\n",
       "4                          Hate it This does not work       1\n",
       "5   Can't log in Fully foul. Can't access my any o...       1\n",
       "6                               No pin or pattern use       1\n",
       "7   Please add the ability to delete this app from...       1\n",
       "8   It might be a good app BUT: It doesn't work on...       1\n",
       "9   I use to love it!!! This WAS the only app I wo...       1\n",
       "10  Many permission You have download one app for ...       1\n",
       "11                                   Couldn't upgrade       1\n",
       "12                                  Es muy mala •`_'•       1\n",
       "13      Slows down tablet Do we need more bloatware??       1\n",
       "14  It may work 4 out of 10 times to show the call...       1"
      ]
     },
     "execution_count": 17,
     "metadata": {},
     "output_type": "execute_result"
    }
   ],
   "source": [
    "app_data.head(15)"
   ]
  },
  {
   "cell_type": "code",
   "execution_count": 18,
   "id": "93fbecc0-bd6f-4078-bdd7-156928022fbd",
   "metadata": {},
   "outputs": [
    {
     "data": {
      "text/plain": [
       "\"Es muy mala •`_'•\""
      ]
     },
     "execution_count": 18,
     "metadata": {},
     "output_type": "execute_result"
    }
   ],
   "source": [
    "# Using a sample value to demonstrate that the clean_data function does work.\n",
    "app_data.loc[12, \"Review\"]"
   ]
  },
  {
   "cell_type": "code",
   "execution_count": 19,
   "id": "18e84d29",
   "metadata": {
    "id": "18e84d29"
   },
   "outputs": [],
   "source": [
    "import re\n",
    "\n",
    "def clean_data(text):\n",
    "\n",
    "    # Format words and remove unwanted characters\n",
    "    text = re.sub(r'https?:\\/\\/.*[\\r\\n]*', '', text, flags=re.MULTILINE)\n",
    "    text = re.sub(r'\\<a href', ' ', text)\n",
    "    text = re.sub(r'&amp;', '', text)\n",
    "    text = re.sub(r'[_\"\\-;%()|+&=*%.,!?:#$@\\[\\]/]', ' ', text)\n",
    "    text = re.sub(r'<br />', ' ', text)\n",
    "    text = re.sub(r'br', ' ', text)\n",
    "    text = re.sub(r'\\'', ' ', text)\n",
    "    text = re.sub(r'•`  •', ' ', text)\n",
    "\n",
    "    return text"
   ]
  },
  {
   "cell_type": "code",
   "execution_count": 20,
   "id": "5311b4cd",
   "metadata": {
    "id": "5311b4cd"
   },
   "outputs": [],
   "source": [
    "# Provide your answers here\n",
    "\n",
    "# Once code is written to remove hashtags and @mentions, apply the function to clean data.\n",
    "app_data[\"Review\"] = app_data[\"Review\"].apply(clean_data)"
   ]
  },
  {
   "cell_type": "code",
   "execution_count": 34,
   "id": "f52702bd-6f54-4981-abd4-a2fee74c905c",
   "metadata": {},
   "outputs": [
    {
     "data": {
      "text/plain": [
       "'Es muy mala  '"
      ]
     },
     "execution_count": 34,
     "metadata": {},
     "output_type": "execute_result"
    }
   ],
   "source": [
    "# Confirm that the same data point has been cleaned\n",
    "app_data.loc[12, \"Review\"]"
   ]
  },
  {
   "cell_type": "markdown",
   "id": "5334f4bc",
   "metadata": {
    "id": "5334f4bc"
   },
   "source": [
    "- **Split the clean dataset into separate train and test sets. For this, use the \"Review\" field as the feature vector (X) and the \"Rating\" field as the label vector (Y).**"
   ]
  },
  {
   "cell_type": "code",
   "execution_count": 22,
   "id": "e2b74af8",
   "metadata": {
    "id": "e2b74af8"
   },
   "outputs": [],
   "source": [
    "from sklearn.model_selection import train_test_split"
   ]
  },
  {
   "cell_type": "code",
   "execution_count": 35,
   "id": "f21e0206",
   "metadata": {
    "id": "f21e0206"
   },
   "outputs": [],
   "source": [
    "# Provide your answers here\n",
    "\n",
    "# define random state to make random processes reprodible\n",
    "random_state = np.random.RandomState(0)\n",
    "\n",
    "# define X (features) and Y (target)\n",
    "X = app_data[\"Review\"]\n",
    "y = app_data[\"Rating\"] #1, 2, 3, 4, 5\n",
    "\n",
    "# split the data into train-test split where 30% of data will be used as test set\n",
    "# splitting data for: 70% data for training and rest for testing\n",
    "X_train, X_test, y_train, y_test = train_test_split(X, y, test_size=0.3, shuffle=True, random_state=42)"
   ]
  },
  {
   "cell_type": "markdown",
   "id": "41f40611",
   "metadata": {
    "id": "41f40611"
   },
   "source": [
    "\n",
    "- **Transform the cleaned data into a numerical representation using Bag of Words (BoW) and remove any stop words. Save the BoW representation in the variables train_data_BOW and test_data_BOW.**"
   ]
  },
  {
   "cell_type": "code",
   "execution_count": 24,
   "id": "0beb3e6e-baa5-4af6-a566-3c8f4c8ef4f5",
   "metadata": {},
   "outputs": [
    {
     "name": "stderr",
     "output_type": "stream",
     "text": [
      "[nltk_data] Downloading package stopwords to\n",
      "[nltk_data]     /home/s4556162/nltk_data...\n",
      "[nltk_data]   Package stopwords is already up-to-date!\n",
      "[nltk_data] Downloading package omw-1.4 to /home/s4556162/nltk_data...\n",
      "[nltk_data]   Package omw-1.4 is already up-to-date!\n",
      "[nltk_data] Downloading package wordnet to /home/s4556162/nltk_data...\n",
      "[nltk_data]   Package wordnet is already up-to-date!\n"
     ]
    },
    {
     "data": {
      "text/plain": [
       "True"
      ]
     },
     "execution_count": 24,
     "metadata": {},
     "output_type": "execute_result"
    }
   ],
   "source": [
    "from sklearn.feature_extraction.text import CountVectorizer\n",
    "\n",
    "from nltk.corpus import stopwords\n",
    "import nltk\n",
    "\n",
    "\n",
    "nltk.download('stopwords')\n",
    "nltk.download('omw-1.4')\n",
    "nltk.download('wordnet')"
   ]
  },
  {
   "cell_type": "code",
   "execution_count": 38,
   "id": "a080e62a-1d03-4d23-b024-d736d0707883",
   "metadata": {},
   "outputs": [],
   "source": [
    "# Provide your answers here\n",
    "from sklearn.feature_extraction.text import CountVectorizer\n",
    "\n",
    "# define stop words \n",
    "stop_words = stopwords.words('english')\n",
    "\n",
    "# define CountVectorizer object\n",
    "# min_df=0.01 means words that belong to only 1% of the all Reviews will be excluded in the BOW\n",
    "vectorizer = CountVectorizer(stop_words=stopwords.words('english'), min_df=0.01)\n",
    "\n",
    "# BOW demonstrates how frequently each word is seen, i.e, how many times a word appears\n",
    "#  BOW for Training data\n",
    "train_data_BOW = vectorizer.fit_transform(X_train)\n",
    "test_data_BOW = vectorizer.transform(X_test)"
   ]
  },
  {
   "cell_type": "code",
   "execution_count": 39,
   "id": "b88ccbb3-1c9c-4ae5-a731-103a25f91e17",
   "metadata": {},
   "outputs": [
    {
     "name": "stdout",
     "output_type": "stream",
     "text": [
      "(40329, 80)\n",
      "(17284, 80)\n"
     ]
    }
   ],
   "source": [
    "print(train_data_BOW.shape)\n",
    "print(test_data_BOW.shape)"
   ]
  },
  {
   "cell_type": "markdown",
   "id": "c3441fac",
   "metadata": {
    "id": "c3441fac"
   },
   "source": [
    "## Task 3: Model Training\n",
    "\n",
    "Define 2 Logistic Regression models: *model1* and *model2* and train the models as follows:\n",
    "- **Train the first Logistic Regression model to predict the application rating (Y).**\n"
   ]
  },
  {
   "cell_type": "code",
   "execution_count": 43,
   "id": "af6007d5",
   "metadata": {
    "id": "af6007d5"
   },
   "outputs": [],
   "source": [
    "from sklearn.linear_model import LogisticRegression\n",
    "\n",
    "# Provide your answers here\n",
    "# LOGISTIC REGRESSION : It is a popular algorithm for binary classification tasks,\n",
    "                        # where it predicts the probability of an input belonging to a certain class.\n",
    "\n",
    "# based on the BOW created above, see what is the nature of comments\n",
    "# E.g according to BOW, if a certain negative word, say 'bad' appears many times, then\n",
    "# Logistic Regreession would predict the nature of the comment to be negative\n",
    "\n",
    "from sklearn.linear_model import LogisticRegression\n",
    "\n",
    "# define logistic regression model object\n",
    "log_reg = LogisticRegression()\n",
    "model1 = LogisticRegression(random_state=random_state)\n",
    "\n",
    "# Fit the model with the training data\n",
    "log_reg.fit(train_data_BOW, y_train)\n",
    "predict_result = log_reg.predict(test_data_BOW)"
   ]
  },
  {
   "cell_type": "markdown",
   "id": "f5cb5069",
   "metadata": {
    "id": "f5cb5069"
   },
   "source": [
    "- **Create an additional binary label by assigning ‘1’ – positive for the product ratings 4 and 5; and \"–1\" for product ratings 1, 2 and 3. Store it in y_train_binary and y_test_binary.**\n",
    "\n",
    "*Tip: you can use a function copy.deepcopy for creating a copy of label variables*"
   ]
  },
  {
   "cell_type": "code",
   "execution_count": 44,
   "id": "ea7fe3f2",
   "metadata": {
    "id": "ea7fe3f2"
   },
   "outputs": [],
   "source": [
    "import copy"
   ]
  },
  {
   "cell_type": "code",
   "execution_count": 45,
   "id": "a1c3f189",
   "metadata": {
    "id": "a1c3f189"
   },
   "outputs": [],
   "source": [
    "# Provide your answers here\n",
    "\n",
    "# Create a deep copy of y_train and y_test\n",
    "y_train_binary = copy.deepcopy(y_train)\n",
    "y_test_binary = copy.deepcopy(y_test)\n",
    "\n",
    "# Assign 1 for ratings 4 and 5\n",
    "y_train_binary[(y_train == 4) | (y_train == 5)] = 1\n",
    "y_test_binary[(y_test == 4) | (y_test == 5)] = 1\n",
    "\n",
    "# Assign -1 for ratings 1, 2, and 3\n",
    "y_train_binary[(y_train == 1) | (y_train == 2) | (y_train == 3)] = -1\n",
    "y_test_binary[(y_test == 1) | (y_test == 2) | (y_test == 3)] = -1"
   ]
  },
  {
   "cell_type": "code",
   "execution_count": 47,
   "id": "277750fd-5076-4cbc-ae81-a4a3a17e0ced",
   "metadata": {},
   "outputs": [
    {
     "name": "stdout",
     "output_type": "stream",
     "text": [
      "40329\n",
      "17284\n"
     ]
    }
   ],
   "source": [
    "# check if the bianry labels (-1 and 1) are now added instead of the old ratings (1, 2, 3, 4, 5)\n",
    "print(len(y_train_binary))\n",
    "print(len(y_test_binary))"
   ]
  },
  {
   "cell_type": "code",
   "execution_count": 48,
   "id": "03e292a4-f63d-45c7-83d4-ac7c7fc72ee9",
   "metadata": {},
   "outputs": [
    {
     "data": {
      "text/plain": [
       "array([-1,  1])"
      ]
     },
     "execution_count": 48,
     "metadata": {},
     "output_type": "execute_result"
    }
   ],
   "source": [
    "y_train_binary.unique()"
   ]
  },
  {
   "cell_type": "code",
   "execution_count": 49,
   "id": "9dbeb7a7-80dc-4b11-bdf5-d6e3a206d86a",
   "metadata": {},
   "outputs": [
    {
     "name": "stdout",
     "output_type": "stream",
     "text": [
      "<class 'pandas.core.series.Series'>\n",
      "Index: 40329 entries, 7381 to 56422\n",
      "Series name: Rating\n",
      "Non-Null Count  Dtype\n",
      "--------------  -----\n",
      "40329 non-null  int64\n",
      "dtypes: int64(1)\n",
      "memory usage: 630.1 KB\n"
     ]
    }
   ],
   "source": [
    "y_train_binary.info()"
   ]
  },
  {
   "cell_type": "markdown",
   "id": "4f88e29f-a3b6-4532-9947-6b05aa4db974",
   "metadata": {},
   "source": [
    "- **Train the second Logistic Regression model to predict the binary sentiment label (Y_binary).**\n"
   ]
  },
  {
   "cell_type": "code",
   "execution_count": 50,
   "id": "107d87c6-977d-4939-91ee-cebb7f4007f9",
   "metadata": {},
   "outputs": [],
   "source": [
    "# Provide your answers here\n",
    "from sklearn.feature_extraction.text import CountVectorizer\n",
    "\n",
    "stop_words = stopwords.words('english')\n",
    "\n",
    "# define CountVectorizer object\n",
    "# min_df=0.01 means words that belong to only 1% of the all Reviews will be excluded in the BOW\n",
    "vectorizer2 = CountVectorizer(stop_words=stopwords.words('english'), min_df=0.01)\n",
    "\n",
    "#  BOW for Training data\n",
    "train_data_BOW2 = vectorizer2.fit_transform(X_train)\n",
    "test_data_BOW2 = vectorizer2.transform(X_test)"
   ]
  },
  {
   "cell_type": "code",
   "execution_count": 51,
   "id": "addfe101-92e7-4eb5-a39a-6bcbd1919dc9",
   "metadata": {},
   "outputs": [],
   "source": [
    "# define logistic regression model object\n",
    "log_reg2 = LogisticRegression()\n",
    "model2 = LogisticRegression(random_state=random_state)\n",
    "\n",
    "# Fit the model with the training data\n",
    "log_reg2.fit(train_data_BOW2, y_train_binary)\n",
    "predict_result2 = log_reg2.predict(test_data_BOW2)"
   ]
  },
  {
   "cell_type": "markdown",
   "id": "3776991d-06fa-4270-8b92-4247d65476ce",
   "metadata": {},
   "source": [
    "\n",
    "- **Make and store predictions for both models**"
   ]
  },
  {
   "cell_type": "code",
   "execution_count": 64,
   "id": "11710c39-c1c0-416e-8eee-2c09d0e0a7e7",
   "metadata": {},
   "outputs": [
    {
     "name": "stdout",
     "output_type": "stream",
     "text": [
      "Model 1 Predictions: 17284\n",
      "Model 2 Predictions: 17284\n"
     ]
    }
   ],
   "source": [
    "# Provide your answers here\n",
    "\n",
    "# Model 1's Predicted Result:\n",
    "print(\"Model 1 Predictions:\", len(predict_result))\n",
    "\n",
    "# Model 2's Predicted Result:\n",
    "print(\"Model 2 Predictions:\", len(predict_result2))"
   ]
  },
  {
   "cell_type": "markdown",
   "id": "340eb398-476b-4340-a916-1a78776f4d82",
   "metadata": {},
   "source": [
    "**OBSERVATION** <br>\n",
    "The stored predicted values for both Model 1 and Model 2 is 17284. <BR>"
   ]
  },
  {
   "cell_type": "markdown",
   "id": "9f37e686",
   "metadata": {
    "id": "9f37e686"
   },
   "source": [
    "\n",
    "## Task 4: Model Evaluation\n",
    "\n",
    "- **Compute and compare the test accuracy of Model 1 and Model 2. Based on your results, analyze which task is easier: binary sentiment prediction or multi-class rating prediction.**"
   ]
  },
  {
   "cell_type": "code",
   "execution_count": 55,
   "id": "09217a19",
   "metadata": {
    "id": "09217a19"
   },
   "outputs": [
    {
     "name": "stdout",
     "output_type": "stream",
     "text": [
      "Model 1 (Logistic Regression with BoW representation) test accuracy: 0.6397\n",
      "Model 2 (Logistic Regression with BoW representation) test accuracy: 0.0892\n"
     ]
    }
   ],
   "source": [
    "from sklearn.metrics import accuracy_score, precision_score, recall_score\n",
    "\n",
    "# Provide your answers here\n",
    "\n",
    "# To compute and compare the test accuracy of Model 1 (Logistic Regression with BoW representation)\n",
    "# and Model 2 (Logistic Regression with TfIdf representation), use the accuracy_score function from the sklearn.metrics module. \n",
    "\n",
    "# Compute the test accuracy of Model 1\n",
    "model1_accuracy = accuracy_score(y_test, predict_result)\n",
    "\n",
    "# Compute the test accuracy of Model 2\n",
    "model2_accuracy = accuracy_score(y_test, predict_result2)\n",
    "\n",
    "print(f\"Model 1 (Logistic Regression with BoW representation) test accuracy: {model1_accuracy:.4f}\")\n",
    "print(f\"Model 2 (Logistic Regression with BoW representation) test accuracy: {model2_accuracy:.4f}\")"
   ]
  },
  {
   "cell_type": "markdown",
   "id": "d19704c0-fc14-44d0-818f-94c16cdf8711",
   "metadata": {},
   "source": [
    "**OBSERVATION** <br>\n",
    "The test accuracy of Model 1 is 0.6397 and the test accuracy of Model 2 is 0.0892. <BR>\n",
    "Therefore, it is concluded that Model 1 (Logistic Regression with BoW representation) yields higher performance in predicting the hotel ratings (Y) than Model 2 (Logistic Regression with BoW representation)."
   ]
  },
  {
   "cell_type": "markdown",
   "id": "974df47c",
   "metadata": {
    "id": "974df47c"
   },
   "source": [
    "\n",
    "\n",
    "- **For Model 1,  compute additional evaluaton measures, namely confusion matrix, precision and recall.** "
   ]
  },
  {
   "cell_type": "code",
   "execution_count": 56,
   "id": "c064f3d6",
   "metadata": {
    "colab": {
     "base_uri": "https://localhost:8080/",
     "height": 467
    },
    "id": "c064f3d6",
    "outputId": "fa668122-752f-45b9-8a8d-d7114e8810f7"
   },
   "outputs": [
    {
     "data": {
      "image/png": "[encoded data removed]",
      "text/plain": [
       "<Figure size 640x480 with 2 Axes>"
      ]
     },
     "metadata": {},
     "output_type": "display_data"
    }
   ],
   "source": [
    "from sklearn.metrics import classification_report\n",
    "from sklearn.metrics import ConfusionMatrixDisplay, confusion_matrix\n",
    "\n",
    "# Compute the confusion matrix\n",
    "logistic_classes =['1','2','3','4','5']\n",
    "cm = confusion_matrix(y_test, predict_result)\n",
    "\n",
    "display = ConfusionMatrixDisplay(confusion_matrix=cm, display_labels=logistic_classes)\n",
    "display.plot();"
   ]
  },
  {
   "cell_type": "markdown",
   "id": "876a008c-b554-44cb-be55-9bc880f9897c",
   "metadata": {},
   "source": [
    "**OBSERVATION** <br>\n",
    "The above shown confusion matrix shows the accuracy of the predictions made by Model 1. <BR>\n",
    "For example, (in top left corner), 214 samples were predicted to be label 1 but in reality, they were label 2."
   ]
  },
  {
   "cell_type": "code",
   "execution_count": 57,
   "id": "9a3d514c-19c4-47f6-b87e-15cda284d09a",
   "metadata": {},
   "outputs": [
    {
     "name": "stdout",
     "output_type": "stream",
     "text": [
      "Precision of Model 1 = 0.5618151946158507\n"
     ]
    }
   ],
   "source": [
    "from sklearn.metrics import f1_score\n",
    "from sklearn.metrics import confusion_matrix, precision_score, recall_score\n",
    "\n",
    "# Compute the confusion matrix\n",
    "cm = confusion_matrix(y_test, predict_result)\n",
    "\n",
    "# Compute precision and recall\n",
    "precision = precision_score(y_test, predict_result, average='weighted')\n",
    "\n",
    "print(\"Precision of Model 1 =\", precision)"
   ]
  },
  {
   "cell_type": "markdown",
   "id": "35e9c3db-1724-4336-aa7d-0adbcb0886de",
   "metadata": {},
   "source": [
    "**OBSERVATION** <BR> \n",
    "    \n",
    "**Precision** is a measure of the accuracy of the model’s positive predictions. It is defined as the ratio of true positives (TP) to the sum of true positives and false positives (FP). In other words, precision is the proportion of positive predictions that are actually true. <BR>\n",
    "\n",
    "                                            Precision = TP/(TP+FP)\n",
    "    \n",
    "* Precision of Model 1 is 0.5618151946158507. <BR>\n",
    "This means that out of all the positive predictions made by Model 1, only 56.18% were actually true."
   ]
  },
  {
   "cell_type": "code",
   "execution_count": 58,
   "id": "d393639f-fb9f-424e-850d-1f40d198138d",
   "metadata": {},
   "outputs": [
    {
     "name": "stdout",
     "output_type": "stream",
     "text": [
      "Recall of Model 1 = 0.6397246007868549\n"
     ]
    }
   ],
   "source": [
    "from sklearn.metrics import f1_score\n",
    "from sklearn.metrics import confusion_matrix, precision_score, recall_score\n",
    "\n",
    "# Compute the confusion matrix\n",
    "cm = confusion_matrix(y_test, predict_result)\n",
    "\n",
    "# compute recall\n",
    "recall = recall_score(y_test, predict_result, average='weighted')\n",
    "\n",
    "print(\"Recall of Model 1 =\", recall)"
   ]
  },
  {
   "cell_type": "markdown",
   "id": "2efe2974-97f3-4c7d-9e5e-ba97c5e2ef22",
   "metadata": {},
   "source": [
    "**OBSERVATION** <BR> <BR>\n",
    "**Recall** is a measure of the completeness of the model’s positive predictions. It is defined as the ratio of true positives (TP) to the sum of true positives and false negatives (FN). In other words, recall is the proportion of actual positives that are correctly identified by the mode.\n",
    "\n",
    "                                            Recall = TP/(TP+FN)  \n",
    "* Recall of Model 1 is  0.6397246007868549 <BR>\n",
    "This means that out of all the actual positive instances in the data, only 63.97% were correctly identified by Model 1."
   ]
  },
  {
   "cell_type": "markdown",
   "id": "c3dd31d7",
   "metadata": {
    "id": "c3dd31d7"
   },
   "source": [
    "- **Based on the confusion matrix obtained in the previous question (referring to Model 1, the Logistic Regression for rating prediction), identify and state the number of samples that were classified to have the rating of 1 (the lowest rating), but in reality, they had an actual rating of 5 (the highest rating).**"
   ]
  },
  {
   "cell_type": "markdown",
   "id": "3e5fd638",
   "metadata": {
    "id": "3e5fd638"
   },
   "source": [
    "**ANSWER:**<br>\n",
    "Based on the confusion matrix, **1626** samples were classified to have the rating of 5 (the highest rating), but in reality, they had an actual rating of 1 (the lowest rating)."
   ]
  },
  {
   "cell_type": "markdown",
   "id": "39c0632f",
   "metadata": {
    "id": "39c0632f"
   },
   "source": [
    "## Task 5: Model Analysis\n",
    "\n"
   ]
  },
  {
   "cell_type": "markdown",
   "id": "1c867478",
   "metadata": {
    "id": "1c867478"
   },
   "source": [
    "- **Discuss the importance of considering alternative evaluation measures, such as precision and recall, instead of relying solely on accuracy. Based on this discussion, identify the most suitable evaluation metric for Model 1.**"
   ]
  },
  {
   "cell_type": "markdown",
   "id": "a496792b",
   "metadata": {
    "id": "a496792b"
   },
   "source": [
    "**ANSWER** <BR>\n",
    "**Model evaluation metrics** are used to assess the performance of a machine learning model. **Accuracy** is one such metric that is commonly used to evaluate models. However, it is not always the most suitable metric for every problem. In some cases, it may be more appropriate to use **precision** and **recall** instead of accuracy.\n",
    "\n",
    "**Precision** measures the proportion of true positives among all positive predictions made by the model. It is calculated as follows:\n",
    "\n",
    "$$\\text{Precision} = \\frac{\\text{True Positives}}{\\text{True Positives + False Positives}}$$\n",
    "\n",
    "**Recall**, on the other hand, measures the proportion of true positives among all actual positive instances in the data. It is calculated as follows:\n",
    "\n",
    "$$\\text{Recall} = \\frac{\\text{True Positives}}{\\text{True Positives + False Negatives}}$$\n",
    "\n",
    "In some cases, it may be more important to optimize for precision or recall instead of accuracy. For example, in a spam detection system, it may be more important to minimize false positives (i.e., classify an email as spam when it is not) than false negatives (i.e., classify a spam email as not spam). In such cases, precision would be a more suitable metric than accuracy.\n",
    "\n",
    "For **Model 1**, which is a logistic regression model trained using the BoW representation to predict app ratings, it would be appropriate to consider alternative evaluation measures such as precision and recall in addition to accuracy. Since this is a multi-class classification problem, we can use the **macro-averaged F1 score** as an evaluation metric. The macro-averaged F1 score calculates the F1 score for each class separately and then takes the average across all classes. It is calculated as follows:\n",
    "\n",
    "$$\\text{Macro-averaged F1 score} = \\frac{1}{k}\\sum_{i=1}^{k}\\frac{2\\times\\text{Precision}_i\\times\\text{Recall}_i}{\\text{Precision}_i+\\text{Recall}_i}$$\n",
    "\n",
    "where $k$ is the number of classes.\n",
    "\n",
    "The macro-averaged F1 score is a suitable evaluation metric for Model 1 because it takes into account both precision and recall and provides an overall measure of performance across all classes."
   ]
  },
  {
   "cell_type": "code",
   "execution_count": 59,
   "id": "78f363ca-c4fc-4387-8746-e920532d9ca1",
   "metadata": {},
   "outputs": [
    {
     "name": "stdout",
     "output_type": "stream",
     "text": [
      "f1_score of Model 1 = 0.5982440239878299\n"
     ]
    }
   ],
   "source": [
    "from sklearn.metrics import f1_score\n",
    "from sklearn.metrics import confusion_matrix, precision_score, recall_score\n",
    "\n",
    "# Compute the confusion matrix\n",
    "cm = confusion_matrix(y_test, predict_result)\n",
    "\n",
    "# compute recall\n",
    "f1_score = (2 * (precision * recall))/(precision + recall)\n",
    "\n",
    "print(\"f1_score of Model 1 =\", f1_score)"
   ]
  },
  {
   "cell_type": "markdown",
   "id": "32f9ea29-8ec4-44cb-809f-26cb61da1bd2",
   "metadata": {},
   "source": [
    "**OBSERVATION** <BR> <BR>\n",
    "**F1 Score** calculates the F1 score for each class separately and then takes the average across all classes. It takes into account both precision and recall and provides an overall measure of performance across all classes.\n",
    "\n",
    "$$\\text{F1 score} = \\frac{2\\times\\text{Precision}\\times\\text{Recall}}{\\text{Precision}+\\text{Recall}}$$ \n",
    "* F1 Score of Model 1 is  0.5982440239878299 <BR>\n",
    "This means the overall measure of performance accross all classes is 59.82% by Model 1."
   ]
  },
  {
   "cell_type": "markdown",
   "id": "ad234f27",
   "metadata": {
    "id": "ad234f27"
   },
   "source": [
    "\n",
    "- **For binary sentiment prediction (Model 2), visualize important words with their model coefficients.**  \n",
    "\n",
    "*Tip: you can reuse the function plot_coefficients from prac. session.*"
   ]
  },
  {
   "cell_type": "code",
   "execution_count": 60,
   "id": "373c09a2",
   "metadata": {
    "colab": {
     "base_uri": "https://localhost:8080/",
     "height": 540
    },
    "id": "373c09a2",
    "outputId": "aa1c97d1-71a9-4050-f721-1faaf813e747"
   },
   "outputs": [],
   "source": [
    "# Provide your answers here\n",
    "\n",
    "def plot_coefficients(classifier, feature_names, top_features=10):\n",
    "    coef = classifier.coef_.ravel()\n",
    "    top_positive_coefficients = np.argsort(coef)[-top_features:]\n",
    "    top_negative_coefficients = np.argsort(coef)[:top_features]\n",
    "    top_coefficients = np.hstack([top_negative_coefficients, top_positive_coefficients])\n",
    "    # create plot\n",
    "    plt.figure(figsize=(15, 5))\n",
    "    colors = ['red' if c < 0 else 'blue' for c in coef[top_coefficients]]\n",
    "    plt.bar(np.arange(2 * top_features), coef[top_coefficients], color=colors)\n",
    "    feature_names = np.array(feature_names)\n",
    "    plt.xticks(np.arange(0, 2 * top_features), feature_names[top_coefficients], rotation=90, ha='right')\n",
    "    plt.xlabel(\"Important Words\")\n",
    "    plt.ylabel(\"Model Coefficient\")\n",
    "    plt.title(\"Important words with their model coefficient\")\n",
    "    plt.show()"
   ]
  },
  {
   "cell_type": "code",
   "execution_count": 61,
   "id": "978af3d1-cf6f-4b41-b286-c9a988f53d61",
   "metadata": {},
   "outputs": [
    {
     "data": {
      "image/png": "[encoded data removed]",
      "text/plain": [
       "<Figure size 1500x500 with 1 Axes>"
      ]
     },
     "metadata": {},
     "output_type": "display_data"
    }
   ],
   "source": [
    "plot_coefficients(log_reg2, vectorizer.get_feature_names_out())"
   ]
  },
  {
   "cell_type": "markdown",
   "id": "20d52358-44ed-4da5-9359-3d01c7657f50",
   "metadata": {},
   "source": [
    "**OBSERVATION** <BR>\n",
    "The plot shows 20 words which played important role in making predictions. The red bars show top 10 words with negative model coefficient and blue bars show top 10 words with positive model coefficient values."
   ]
  },
  {
   "cell_type": "markdown",
   "id": "0c930b90-6b67-4b2e-8884-ccc5dec69663",
   "metadata": {},
   "source": [
    "- **Analyze the quality of the features produced by Model 2 by examining the words with the highest coefficients for both the positive and negative classes.  Identify any potential bias in the model, and explain how this bias could affect its performance.**"
   ]
  },
  {
   "cell_type": "markdown",
   "id": "9eb079ad-a92d-48bf-86c6-4c3fa940628b",
   "metadata": {
    "id": "sTpe-CTd9u0C"
   },
   "source": [
    "1. **Analysing Feature Quality:** <br>\n",
    "By examining the words with the highest coefficients: <br>\n",
    "- Positive Class: Words with high positive coefficients are associated with the positive class. These words should represent positively connotated language or expressions that indicate favorable sentiment. <br>\n",
    "- Negative Class: Similarly, words with high negative coefficients are associated with the negative class. These words should reflect negative language, criticisms, or unfavorable sentiment. <br> </br>\n",
    "\n",
    "2. **Potential Bias in the Model:** <br>\n",
    "Bias in the model can stem from several sources, which could be reflected in the feature importance: <br>\n",
    "- Class imbalance: If the training dataset is skewed toward one class (e.g., more positive than negative examples), the model may learn to assign disproportionately high weights to features associated with the dominant class. As a result, the model might overly rely on certain words for predictions, leading to biased classifications. <br>\n",
    "- Contextual bias: Some words may have different meanings depending on context, but the model might treat them as always having a positive or negative connotation. For instance, words like \"working\" could be positive or negative depending on context (\"working well\" vs. \"working bad\"). The model may misinterpret these based on how frequently they appear with a certain sentiment in the training data. <br>\n",
    "- Overfitting to specific features: The model may assign large coefficients to words that are common in the training set but not generalisable to unseen data. For example, if certain terms (e.g., \"awesome\") are very frequent in the training data but not in the broader population, the model could perform well on the training data but poorly on new, unseen examples. <br> </br>\n",
    "\n",
    "3. **How Bias Could Affect Model Performance:** <br>\n",
    "- False positives or false negatives: If the model relies too heavily on certain biased features, it might classify ambiguous or neutral text incorrectly. For example, if a word that is typically neutral (e.g., \"thanks\") has been over- or under-weighted due to bias in the training data, the model could incorrectly classify examples containing that word. <br>\n",
    "- Misclassification in rare or minority contexts: The model may struggle with out-of-distribution data. For instance, if words associated with certain demographics or contexts (e.g., slang, regional terms) are underrepresented in the training data, the model could systematically misclassify text from those sources. <br>\n",
    "- Generalisation issues: If the model overfits to certain terms or expressions that are common in the training set, it may fail to generalize well to other data, leading to lower accuracy in real-world scenarios. <br> </br>\n",
    "\n",
    "4. **Conclusion:** <br>\n",
    "To improve model performance and mitigate potential biases: <br>\n",
    "- Consider rebalancing the dataset if there is class imbalance. <br>\n",
    "- Implement techniques like context-aware embeddings (e.g., word vectors) to capture more nuanced meanings of words. <br>\n",
    "- Regularisation methods can be employed to prevent overfitting and reduce the influence of individual words that may dominate the model."
   ]
  }
 ],
 "metadata": {
  "colab": {
   "provenance": []
  },
  "kernelspec": {
   "display_name": "Python 3 (ipykernel)",
   "language": "python",
   "name": "python3"
  },
  "language_info": {
   "codemirror_mode": {
    "name": "ipython",
    "version": 3
   },
   "file_extension": ".py",
   "mimetype": "text/x-python",
   "name": "python",
   "nbconvert_exporter": "python",
   "pygments_lexer": "ipython3",
   "version": "3.12.4"
  }
 },
 "nbformat": 4,
 "nbformat_minor": 5
}
